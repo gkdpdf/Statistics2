{
 "cells": [
  {
   "cell_type": "markdown",
   "id": "67683dca-f0c7-4266-83a8-a24f68860d85",
   "metadata": {},
   "source": [
    "#1\n",
    "Mean,Median and Mode"
   ]
  },
  {
   "cell_type": "markdown",
   "id": "985eb69c-bf37-4a60-b74c-853109c9b9b8",
   "metadata": {},
   "source": [
    "#2 \n",
    "Mean : Average of the sample dataset \n",
    "e.g, Sum of the datapoints/Frequency of the datapoints\n",
    "\n",
    "Mode : Maximum frequency of the dataset\n",
    "\n",
    "Median : Middlemost element of the dataset"
   ]
  },
  {
   "cell_type": "code",
   "execution_count": 5,
   "id": "bf2134d1-7849-476c-94b5-1dbf6d5c9474",
   "metadata": {},
   "outputs": [],
   "source": [
    "#3\n",
    "import numpy as np\n",
    "s=[178,177,176,177,178.2,178,175,179,180,175,178.9,176.2,177,172.5,178,176.5]"
   ]
  },
  {
   "cell_type": "code",
   "execution_count": 9,
   "id": "a4d78fdc-f6ce-4fe3-ae18-ac0415165090",
   "metadata": {},
   "outputs": [],
   "source": [
    "a=np.array(s)"
   ]
  },
  {
   "cell_type": "code",
   "execution_count": 10,
   "id": "429d7742-3154-4437-8827-810119694fcb",
   "metadata": {},
   "outputs": [
    {
     "data": {
      "text/plain": [
       "177.01875"
      ]
     },
     "execution_count": 10,
     "metadata": {},
     "output_type": "execute_result"
    }
   ],
   "source": [
    "np.mean(a)"
   ]
  },
  {
   "cell_type": "code",
   "execution_count": 12,
   "id": "5a9dc697-eb11-4b08-8c23-1a5f53b4f73d",
   "metadata": {},
   "outputs": [
    {
     "data": {
      "text/plain": [
       "177.0"
      ]
     },
     "execution_count": 12,
     "metadata": {},
     "output_type": "execute_result"
    }
   ],
   "source": [
    "np.median(a)"
   ]
  },
  {
   "cell_type": "code",
   "execution_count": 15,
   "id": "822eb7d1-0a92-48cd-94fe-d0cfac85127a",
   "metadata": {},
   "outputs": [],
   "source": [
    "import statistics as st"
   ]
  },
  {
   "cell_type": "code",
   "execution_count": 16,
   "id": "c134f047-686b-4e99-9e47-e5b0a540a570",
   "metadata": {},
   "outputs": [
    {
     "data": {
      "text/plain": [
       "178.0"
      ]
     },
     "execution_count": 16,
     "metadata": {},
     "output_type": "execute_result"
    }
   ],
   "source": [
    "st.mode(a)"
   ]
  },
  {
   "cell_type": "code",
   "execution_count": 18,
   "id": "e2ebf748-dba0-4600-85e1-41ba51844340",
   "metadata": {},
   "outputs": [
    {
     "data": {
      "text/plain": [
       "1.7885814036548633"
      ]
     },
     "execution_count": 18,
     "metadata": {},
     "output_type": "execute_result"
    }
   ],
   "source": [
    "#4 \n",
    "np.std(a)"
   ]
  },
  {
   "cell_type": "markdown",
   "id": "6f953af4-c589-4feb-8976-adc887d5598b",
   "metadata": {},
   "source": [
    "#5 \n",
    "Dispersion shows the data spread how wide it's from the mode."
   ]
  },
  {
   "cell_type": "code",
   "execution_count": 27,
   "id": "13965af1-ef6a-40a0-b585-813f85d9dcde",
   "metadata": {},
   "outputs": [],
   "source": [
    "s=[1,2,3,4,5]\n",
    "a=np.array(s)"
   ]
  },
  {
   "cell_type": "code",
   "execution_count": 28,
   "id": "95a2b536-428f-45a3-91cd-dd12d353b09e",
   "metadata": {},
   "outputs": [],
   "source": [
    "range=max(s)-min(s)"
   ]
  },
  {
   "cell_type": "code",
   "execution_count": 29,
   "id": "1713a31c-af89-4a3e-9632-1aa7540ae419",
   "metadata": {},
   "outputs": [
    {
     "data": {
      "text/plain": [
       "4"
      ]
     },
     "execution_count": 29,
     "metadata": {},
     "output_type": "execute_result"
    }
   ],
   "source": [
    "range"
   ]
  },
  {
   "cell_type": "code",
   "execution_count": 38,
   "id": "3ba96b25-fd0a-4eb4-bdea-4c3cb80d6fdc",
   "metadata": {},
   "outputs": [],
   "source": [
    "#Std deviation is like taking the square root of variance and taking the difference between the MEAN AND DATAPOINTS "
   ]
  },
  {
   "cell_type": "code",
   "execution_count": 39,
   "id": "1a1ca9cb-4afa-4b92-b441-46ac30af8d67",
   "metadata": {},
   "outputs": [
    {
     "data": {
      "text/plain": [
       "1.4142135623730951"
      ]
     },
     "execution_count": 39,
     "metadata": {},
     "output_type": "execute_result"
    }
   ],
   "source": [
    "np.std(a)"
   ]
  },
  {
   "cell_type": "code",
   "execution_count": 40,
   "id": "581c75df-5455-42b3-9198-165236f5541e",
   "metadata": {},
   "outputs": [],
   "source": [
    "#variance is like taking the difference between the MEAN AND DATAPOINTS and taking the sample mean of the same."
   ]
  },
  {
   "cell_type": "code",
   "execution_count": 41,
   "id": "bb626529-1b43-48ae-aa2a-96157912efb7",
   "metadata": {},
   "outputs": [
    {
     "data": {
      "text/plain": [
       "2.0"
      ]
     },
     "execution_count": 41,
     "metadata": {},
     "output_type": "execute_result"
    }
   ],
   "source": [
    "np.var(a)"
   ]
  },
  {
   "cell_type": "markdown",
   "id": "c69d4e25-aa55-4218-bccf-aca00daabe6a",
   "metadata": {},
   "source": [
    "#6\n",
    "Venn diagram is like the schematic representation of the data and we can show interaction among them \n",
    "Generally we showcase the same using circles "
   ]
  },
  {
   "cell_type": "code",
   "execution_count": 43,
   "id": "fca9e40c-5d23-4d8c-b9a3-2a8afda4ce9a",
   "metadata": {},
   "outputs": [],
   "source": [
    "#7\n",
    "A = (2,3,4,5,6,7)\n",
    "B = (0,2,6,8,10)"
   ]
  },
  {
   "cell_type": "markdown",
   "id": "12b19363-2e2c-4cd8-a1a5-0a31d846acbe",
   "metadata": {},
   "source": [
    "#7.1 A intersection B\n",
    "(2,6)"
   ]
  },
  {
   "cell_type": "markdown",
   "id": "c4302255-9585-453e-9e07-5d3a95fd23af",
   "metadata": {},
   "source": [
    "#7.2 A union B\n",
    "(2,3,4,5,6,7,0,2,6,8,10)"
   ]
  },
  {
   "cell_type": "markdown",
   "id": "11591b1f-0c27-4a79-bb6f-c12d091c0b76",
   "metadata": {},
   "source": [
    "#8 \n",
    "Skewness is a measurement of the distortion of symmetrical distribution or asymmetry in a data set."
   ]
  },
  {
   "cell_type": "markdown",
   "id": "321067bc-c418-443b-b3a0-e6e5d556f957",
   "metadata": {},
   "source": [
    "#9 \n",
    "Mean  > Median"
   ]
  },
  {
   "cell_type": "markdown",
   "id": "8c4e9047-831c-43cc-ab7d-68c0f7656c3e",
   "metadata": {},
   "source": [
    "#10 \n",
    "Covariance indicates the direction of the linear relationship between variables while correlation measures both the strength and direction of the linear relationship between two variables. Correlation is a function of the covariance."
   ]
  },
  {
   "cell_type": "code",
   "execution_count": 47,
   "id": "ccfa850e-787c-47fc-915d-eb34b79918ae",
   "metadata": {},
   "outputs": [
    {
     "data": {
      "text/plain": [
       "3"
      ]
     },
     "execution_count": 47,
     "metadata": {},
     "output_type": "execute_result"
    }
   ],
   "source": [
    "#11 \n",
    "\n",
    "s= [1,2,3,4,5]\n",
    "# mean = sum(x)/Len(x)\n",
    "st.mean(s)"
   ]
  },
  {
   "cell_type": "markdown",
   "id": "d01a0d89-58db-4ad6-b436-d9e6b6e5bf4a",
   "metadata": {},
   "source": [
    "#12 \n",
    "Mean is equivalent to Mode equivalent to Median"
   ]
  },
  {
   "cell_type": "markdown",
   "id": "84dbc490-8683-481d-8245-a9280733fc12",
   "metadata": {},
   "source": [
    "#13\n",
    "Covariance: The magnitude of covariance depends on the scale of the variables. This means that if the variables are in different units or have different ranges, the covariance may be large even if the relationship is weak.\n",
    "\n",
    "Correlation: Correlation, being a standardized measure, is not affected by the scale of the variables. It is always between -1 and +1, regardless of the units of measurement."
   ]
  },
  {
   "cell_type": "markdown",
   "id": "32beacb1-8303-454c-b376-363a827ab06a",
   "metadata": {},
   "source": [
    "#14\n",
    "Measures of Central Tendency:\n",
    "\n",
    "Mean: Outliers can greatly influence the mean. A single extreme value can pull the mean towards it, especially in a small dataset.\n",
    "\n",
    "Median: The median is less affected by outliers because it is not influenced by extreme values. It represents the middle value, which means it's not influenced by the values at the extremes.\n",
    "\n",
    "Mode: Outliers don't directly impact the mode. It is simply the most frequently occurring value(s) and is not affected by extreme values.\n",
    "\n",
    "Measures of Dispersion:\n",
    "\n",
    "Range: Outliers can have a significant impact on the range. If there's an outlier far from the rest of the data, it can substantially increase the range.\n",
    "\n",
    "Variance and Standard Deviation: Outliers can greatly impact the variance and standard deviation because these measures are based on the squared differences from the mean. Outliers can lead to large squared differences, which in turn lead to an inflated variance and standard deviation."
   ]
  },
  {
   "cell_type": "code",
   "execution_count": null,
   "id": "34c1afd4-f09e-47b7-a5d8-a8677434c433",
   "metadata": {},
   "outputs": [],
   "source": []
  }
 ],
 "metadata": {
  "kernelspec": {
   "display_name": "Python 3 (ipykernel)",
   "language": "python",
   "name": "python3"
  },
  "language_info": {
   "codemirror_mode": {
    "name": "ipython",
    "version": 3
   },
   "file_extension": ".py",
   "mimetype": "text/x-python",
   "name": "python",
   "nbconvert_exporter": "python",
   "pygments_lexer": "ipython3",
   "version": "3.10.8"
  }
 },
 "nbformat": 4,
 "nbformat_minor": 5
}
